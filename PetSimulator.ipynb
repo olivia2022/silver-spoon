{
 "cells": [
  {
   "cell_type": "code",
   "execution_count": null,
   "id": "7474b524-3a33-43f4-97f0-8b9c5e39d32a",
   "metadata": {
    "tags": []
   },
   "outputs": [],
   "source": [
    "from gym import Env\n",
    "from gym.spaces import Discrete, Box\n",
    "import numpy as np\n",
    "import random"
   ]
  },
  {
   "cell_type": "code",
   "execution_count": null,
   "id": "2b823f89-ea62-4bb2-8fef-2e7fa91d2b39",
   "metadata": {},
   "outputs": [],
   "source": [
    "class Dog():\n",
    "    def __init__(self):\n",
    "        self.dogSleep = random.randint(0, 33)\n",
    "        self.dogEat = random.randint(0, 33)\n",
    "        self.dogPlay = random.randint(0, 33)\n",
    "        self.state = self.dogSleep + self.dogEat + self.dogPlay"
   ]
  },
  {
   "cell_type": "code",
   "execution_count": null,
   "id": "ab81c3a3-d6ba-4a9a-baf8-ec45fa4e13b4",
   "metadata": {},
   "outputs": [],
   "source": [
    "class AnimalEnv(Env):\n",
    "    def __init__(self):\n",
    "        # dog needs to sleep, eat, or play\n",
    "        self.action_space = Discrete(3)\n",
    "        # array of dog ability to be adopted/happiness\n",
    "        self.observation_space = Box(low=np.array([0]), high=np.array([100]))\n",
    "        # start stats\n",
    "        self.state = random.randint(0, 100)\n",
    "\n",
    "    def step(self, action):\n",
    "        # Apply action\n",
    "        # 0 = sleep\n",
    "        # 1 = feed\n",
    "        # 2 = play\n",
    "\n",
    "        if action == 0 and self.dogSleep < 33:\n",
    "            self.state += 1\n",
    "        if action == 1 and self.dogEat < 33:\n",
    "            self.state += 1\n",
    "        if action == 2 and self.dogPlay < 33:\n",
    "            self.state += 1\n",
    "\n",
    "        # Calculate reward\n",
    "        if self.state==100:\n",
    "            reward = 1\n",
    "        else:\n",
    "            reward = -1\n",
    "    # self.state += random.randint(-1,1)\n",
    "        # Set placeholder for info\n",
    "        info = {}\n",
    "\n",
    "        # Return step information\n",
    "        return self.state, reward, done, info\n",
    "\n",
    "    def render(self):\n",
    "        # Implement viz\n",
    "        pass\n",
    "\n",
    "    def reset(self):\n",
    "        # Reset shower temperature\n",
    "        self.state = self.dogSleep + self.dogEat + self.dogPlay\n",
    "        # Reset shower time\n",
    "        return self.state"
   ]
  },
  {
   "cell_type": "code",
   "execution_count": null,
   "id": "50c43638-510d-48e2-9630-a37088546ca4",
   "metadata": {},
   "outputs": [],
   "source": [
    "env = AnimalEnv()\n",
    "env.observation_space.sample()\n",
    "\n",
    "episodes = 10\n",
    "for episode in range(1, episodes + 1):\n",
    "    state = env.reset()\n",
    "    done = False\n",
    "    score = 0\n",
    "\n",
    "    while not done:\n",
    "        # env.render()\n",
    "        action = env.action_space.sample()\n",
    "        n_state, reward, done, info = env.step(action)\n",
    "        score += reward\n",
    "    print('Episode:{} Score:{}'.format(episode, score))\n",
    "\n",
    "# See PyCharm help at https://www.jetbrains.com/help/pycharm/\n"
   ]
  }
 ],
 "metadata": {
  "kernelspec": {
   "display_name": "Python 3 (ipykernel)",
   "language": "python",
   "name": "python3"
  },
  "language_info": {
   "codemirror_mode": {
    "name": "ipython",
    "version": 3
   },
   "file_extension": ".py",
   "mimetype": "text/x-python",
   "name": "python",
   "nbconvert_exporter": "python",
   "pygments_lexer": "ipython3",
   "version": "3.9.6"
  }
 },
 "nbformat": 4,
 "nbformat_minor": 5
}
